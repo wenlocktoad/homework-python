{
 "cells": [
  {
   "cell_type": "code",
   "execution_count": 1,
   "metadata": {},
   "outputs": [
    {
     "name": "stdout",
     "output_type": "stream",
     "text": [
      "The amount after 5 years is: $11605.41\n"
     ]
    }
   ],
   "source": [
    "def calculate_compound_interest(P, r, n, t):\n",
    "    \n",
    "    A = P * (1 + r / n) ** (n * t)\n",
    "    return A\n",
    "\n",
    "\n",
    "P = 10000  # Principal amount in dollars\n",
    "r = 0.03   # Annual interest rate as a decimal (3%)\n",
    "n = 2      # Interest is compounded twice per year (every 6 months)\n",
    "t = 5      # Time in years\n",
    "\n",
    "\n",
    "final_amount = calculate_compound_interest(P, r, n, t)\n",
    "print(f\"The amount after {t} years is: ${final_amount:.2f}\")\n"
   ]
  },
  {
   "cell_type": "code",
   "execution_count": 4,
   "metadata": {},
   "outputs": [
    {
     "name": "stdout",
     "output_type": "stream",
     "text": [
      "Your BMI is: 33.91\n",
      "Category: Obese\n"
     ]
    }
   ],
   "source": [
    "def calculate_bmi(weight, height):\n",
    "    \n",
    "    bmi = weight / (height ** 2)\n",
    "    return bmi\n",
    "\n",
    "def categorize_bmi(bmi):\n",
    "   \n",
    "    if bmi < 18.5:\n",
    "        return \"Underweight\"\n",
    "    elif 18.5 <= bmi < 24.9:\n",
    "        return \"Normal weight\"\n",
    "    elif 24.9 <= bmi < 29.9:\n",
    "        return \"Overweight\"\n",
    "    else:\n",
    "        return \"Obese\"\n",
    "\n",
    "\n",
    "height = float(input(\"Enter your height in meters: \"))\n",
    "weight = float(input(\"Enter your weight in kilograms: \"))\n",
    "\n",
    "\n",
    "bmi = calculate_bmi(weight, height)\n",
    "category = categorize_bmi(bmi)\n",
    "\n",
    "\n",
    "print(f\"Your BMI is: {bmi:.2f}\")\n",
    "print(f\"Category: {category}\")\n"
   ]
  },
  {
   "cell_type": "markdown",
   "metadata": {},
   "source": []
  },
  {
   "cell_type": "code",
   "execution_count": 5,
   "metadata": {},
   "outputs": [
    {
     "name": "stdout",
     "output_type": "stream",
     "text": [
      "Your tax rate is: 12%\n"
     ]
    }
   ],
   "source": [
    "def calculate_tax_rate(income, status):\n",
    "\n",
    "    if status.lower() == \"single\":\n",
    "        if income <= 9000:\n",
    "            return 0.10\n",
    "        elif income <= 40000:\n",
    "            return 0.12\n",
    "        elif income <= 85000:\n",
    "            return 0.22\n",
    "        else:\n",
    "            return 0.24\n",
    "    elif status.lower() == \"married\":\n",
    "        if income <= 19000:\n",
    "            return 0.10\n",
    "        elif income <= 80000:\n",
    "            return 0.12\n",
    "        elif income <= 170000:\n",
    "            return 0.22\n",
    "        else:\n",
    "            return 0.24\n",
    "    else:\n",
    "        return None\n",
    "\n",
    "\n",
    "income = float(input(\"Enter your annual income: \"))\n",
    "status = input(\"Enter your filing status (single or married): \")\n",
    "\n",
    "\n",
    "tax_rate = calculate_tax_rate(income, status)\n",
    "\n",
    "\n",
    "if tax_rate is not None:\n",
    "    print(f\"Your tax rate is: {tax_rate * 100:.0f}%\")\n",
    "else:\n",
    "    print(\"Invalid filing status entered. Please enter 'single' or 'married'.\")\n"
   ]
  }
 ],
 "metadata": {
  "kernelspec": {
   "display_name": "Python 3",
   "language": "python",
   "name": "python3"
  },
  "language_info": {
   "codemirror_mode": {
    "name": "ipython",
    "version": 3
   },
   "file_extension": ".py",
   "mimetype": "text/x-python",
   "name": "python",
   "nbconvert_exporter": "python",
   "pygments_lexer": "ipython3",
   "version": "3.12.6"
  }
 },
 "nbformat": 4,
 "nbformat_minor": 2
}
