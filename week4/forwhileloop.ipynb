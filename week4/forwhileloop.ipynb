{
 "cells": [
  {
   "cell_type": "code",
   "execution_count": null,
   "metadata": {},
   "outputs": [],
   "source": [
    "# loop syntax: for i in range(n)\n",
    "#range(n) generates a sequence of numbers from 0 to n-1 that wil be assigned to i\n",
    "for i in range(5):\n",
    "    print(i, end='')"
   ]
  },
  {
   "cell_type": "code",
   "execution_count": 1,
   "metadata": {},
   "outputs": [
    {
     "name": "stdout",
     "output_type": "stream",
     "text": [
      "Sum from 1 to 3: 1\n",
      "Sum from 1 to 3: 3\n",
      "Sum from 1 to 3: 6\n"
     ]
    }
   ],
   "source": [
    "n = int(input('enter n: '))\n",
    "s=0\n",
    "for i in range(1, n+1):\n",
    "    s = s+i \n",
    "    print(f'Sum from 1 to {n}: {s}')"
   ]
  },
  {
   "cell_type": "code",
   "execution_count": 2,
   "metadata": {},
   "outputs": [
    {
     "name": "stdout",
     "output_type": "stream",
     "text": [
      "23! = 1\n",
      "23! = 2\n",
      "23! = 6\n",
      "23! = 24\n",
      "23! = 120\n",
      "23! = 720\n",
      "23! = 5040\n",
      "23! = 40320\n",
      "23! = 362880\n",
      "23! = 3628800\n",
      "23! = 39916800\n",
      "23! = 479001600\n",
      "23! = 6227020800\n",
      "23! = 87178291200\n",
      "23! = 1307674368000\n",
      "23! = 20922789888000\n",
      "23! = 355687428096000\n",
      "23! = 6402373705728000\n",
      "23! = 121645100408832000\n",
      "23! = 2432902008176640000\n",
      "23! = 51090942171709440000\n",
      "23! = 1124000727777607680000\n",
      "23! = 25852016738884976640000\n"
     ]
    }
   ],
   "source": [
    "n= int(input('Enter n: '))\n",
    "p=1\n",
    "for i in range (1, n+1):\n",
    "    p *=i \n",
    "    print(f'{n}! = {p}')"
   ]
  },
  {
   "cell_type": "code",
   "execution_count": 4,
   "metadata": {},
   "outputs": [
    {
     "name": "stdout",
     "output_type": "stream",
     "text": [
      "Sem of evens from 1 to 16: 0\n",
      "Sem of evens from 1 to 16: 0\n",
      "Sem of evens from 1 to 16: 0\n",
      "Sem of evens from 1 to 16: 0\n",
      "Sem of evens from 1 to 16: 0\n",
      "Sem of evens from 1 to 16: 0\n",
      "Sem of evens from 1 to 16: 0\n",
      "Sem of evens from 1 to 16: 0\n"
     ]
    }
   ],
   "source": [
    "n= int(input('Enter n: '))\n",
    "s=0 \n",
    "for i in range(0, n+1, 2):\n",
    "    if i %2 == 0:\n",
    "        s==s+1\n",
    "        print(f'Sem of evens from 1 to {n}: {s}')\n"
   ]
  },
  {
   "cell_type": "code",
   "execution_count": 22,
   "metadata": {},
   "outputs": [],
   "source": [
    "from turtle import * #import everything from the turtle module\n",
    "size = int(input('Enter the size of square: '))\n",
    "angle = 180-(180*(n-2)/n)\n",
    "for _ in range(n):\n",
    "    forward(size)\n",
    "    left(angle)\n",
    "\n",
    "exitonclick()"
   ]
  },
  {
   "cell_type": "code",
   "execution_count": 46,
   "metadata": {},
   "outputs": [
    {
     "name": "stdout",
     "output_type": "stream",
     "text": [
      "69\n",
      "6969\n",
      "696969\n",
      "69696969\n",
      "6969696969\n"
     ]
    }
   ],
   "source": [
    "# loop in a loop\n",
    "n= int(input('greg'))\n",
    "for j in range(1, n+1):\n",
    "    for i in range(j):\n",
    "        print('*', end='')\n",
    "    print()\n"
   ]
  },
  {
   "cell_type": "code",
   "execution_count": 49,
   "metadata": {},
   "outputs": [
    {
     "name": "stdout",
     "output_type": "stream",
     "text": [
      "\n",
      "Enter the number of products sold for each day (5 days total):\n",
      "\n",
      "Day 1:\n",
      "\n",
      "Day 2:\n",
      "\n",
      "Day 3:\n",
      "\n",
      "Day 4:\n",
      "\n",
      "Day 5:\n",
      "\n",
      "The total profit over 5 days is: $5588000.00\n"
     ]
    }
   ],
   "source": [
    "def calculate_daily_profit(products_sold, prices):\n",
    "    # Calculate daily profit for multiple products\n",
    "    daily_profit = 0\n",
    "    for product, quantity in products_sold.items():\n",
    "        daily_profit += quantity * prices[product]\n",
    "    return daily_profit\n",
    "\n",
    "def calculate_total_profit(sales_data, prices):\n",
    "    # Calculate total profit for 5 days across all products\n",
    "    total_profit = 0\n",
    "    for daily_sales in sales_data:\n",
    "        total_profit += calculate_daily_profit(daily_sales, prices)\n",
    "    return total_profit\n",
    "\n",
    "# Collect information about products\n",
    "num_products = int(input(\"Enter the number of different products: \"))\n",
    "products = {}\n",
    "for i in range(1, num_products + 1):\n",
    "    product_name = input(f\"Enter the name of product {i}: \")\n",
    "    product_price = float(input(f\"Enter the price of {product_name}: \"))\n",
    "    products[product_name] = product_price\n",
    "\n",
    "# Collect sales data for 5 days\n",
    "sales_data = []\n",
    "print(\"\\nEnter the number of products sold for each day (5 days total):\")\n",
    "for day in range(1, 6):\n",
    "    print(f\"\\nDay {day}:\")\n",
    "    daily_sales = {}\n",
    "    for product in products.keys():\n",
    "        quantity = int(input(f\"Enter the quantity sold for {product}: \"))\n",
    "        daily_sales[product] = quantity\n",
    "    sales_data.append(daily_sales)\n",
    "\n",
    "# Calculate total profit\n",
    "total_profit = calculate_total_profit(sales_data, products)\n",
    "\n",
    "# Display the result\n",
    "print(f\"\\nThe total profit over 5 days is: ${total_profit:.2f}\")\n"
   ]
  }
 ],
 "metadata": {
  "kernelspec": {
   "display_name": "Python 3",
   "language": "python",
   "name": "python3"
  },
  "language_info": {
   "codemirror_mode": {
    "name": "ipython",
    "version": 3
   },
   "file_extension": ".py",
   "mimetype": "text/x-python",
   "name": "python",
   "nbconvert_exporter": "python",
   "pygments_lexer": "ipython3",
   "version": "3.12.6"
  }
 },
 "nbformat": 4,
 "nbformat_minor": 2
}
