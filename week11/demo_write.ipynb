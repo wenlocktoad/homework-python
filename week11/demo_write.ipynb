{
 "cells": [
  {
   "cell_type": "code",
   "execution_count": null,
   "metadata": {},
   "outputs": [],
   "source": [
    "f = open('authors.txt', 'r')\n",
    "fw = open('authors_gmail.txt', 'w')\n",
    "\n",
    "authors =f.readlines()\n",
    "fw.write(f'{\"author\":20}{\"Email\":20}\\n')\n",
    "for author in authors:\n",
    "    if '@gmail' in author:\n",
    "        name = author.split('<')[0]\n",
    "        email = author.split('<')[1]\n",
    "        print\n",
    "        fw.write(f'{name:20}{email:20}\\n')\n",
    "\n",
    "print('all done')\n",
    "f.close()\n",
    "fw.close()\n"
   ]
  },
  {
   "cell_type": "code",
   "execution_count": null,
   "metadata": {},
   "outputs": [],
   "source": [
    "import csv\n",
    "f= open('authors.txt','r')\n",
    "fw = open('authors_gmail.txt', 'w', newline='')\n",
    "writer = csv.writer(fw)\n",
    "\n",
    "authors= f.readlines()\n",
    "writer.writerow(['author','email'])\n",
    "for author in authors:\n",
    "    if '@gmail' in author:\n",
    "        name = author.split('<')[0]\n",
    "        email = author.split('<')[1].split('>')[0]\n",
    "        print(f'{name:20}{email:20}')\n",
    "        fw.write(f'{name:20}{email:20}\\n')\n",
    "        writer.writerow([name,email])\n",
    "print('all done')\n",
    "f.close()\n",
    "fw.close()"
   ]
  },
  {
   "cell_type": "code",
   "execution_count": null,
   "metadata": {},
   "outputs": [],
   "source": [
    "import csv\n",
    "f = open('books.csv', 'r')\n",
    "fw = open('books_expensive.csv','w','price')\n",
    "writer=csv.writer(fw)\n",
    "reader= csv.reader(f)\n",
    "\n",
    "writer.writerow(['name','author','price'])\n",
    "for line in reader:\n",
    "    name=row[0]\n",
    "    author=row[1]\n",
    "    price=row[2]\n",
    "    if price>=400:\n",
    "        writer.writerow([name,author,price])\n",
    "f.close()\n",
    "fw.close()\n",
    "print('all done')\n",
    "\n"
   ]
  },
  {
   "cell_type": "code",
   "execution_count": null,
   "metadata": {},
   "outputs": [],
   "source": [
    "try:\n",
    "    a=int(input('enter a:'))\n",
    "    b=int(input('enter b:'))\n",
    "    "
   ]
  },
  {
   "cell_type": "code",
   "execution_count": null,
   "metadata": {},
   "outputs": [],
   "source": [
    "try:\n",
    "    a=[1,2,3,4,5]\n",
    "    i=int(input('enter index'))\n",
    "    print(a[i])\n",
    "except IndexError:\n",
    "    print('index out of bound')"
   ]
  },
  {
   "cell_type": "code",
   "execution_count": null,
   "metadata": {},
   "outputs": [],
   "source": [
    "def print_to_n(n, start=1):\n",
    "    if start > n:\n",
    "        return\n",
    "    print(start, end='')\n",
    "    print_to_n(n, start+1)\n",
    "print_to_n(5)\n",
    "print()\n",
    "print_to_n(10)"
   ]
  },
  {
   "cell_type": "code",
   "execution_count": null,
   "metadata": {},
   "outputs": [],
   "source": [
    "def print_reverse(n):\n",
    "    if n==0:\n",
    "        return\n",
    "    print(n,end='')\n",
    "    print_reverse(n-1)\n",
    "\n",
    "print_reverse(5)\n",
    "print()\n",
    "print_reverse(10) "
   ]
  },
  {
   "cell_type": "code",
   "execution_count": null,
   "metadata": {},
   "outputs": [],
   "source": [
    "def find_x(a,x, start=0):\n",
    "    if start ==len(a):\n",
    "        return False\n",
    "    elif a [start]==x:\n",
    "        return True\n",
    "    return find_x(a,x, start+1)\n"
   ]
  },
  {
   "cell_type": "code",
   "execution_count": null,
   "metadata": {},
   "outputs": [],
   "source": [
    "def count_x(a,x, start=0):\n",
    "    if start==len(a):\n",
    "        return False\n",
    "    if a[start]==x:\n",
    "        return True\n",
    "    return find_x(a,x,start + 1)\n",
    "a=[2,4,7,2,10,3,2]\n"
   ]
  }
 ],
 "metadata": {
  "kernelspec": {
   "display_name": "Python 3",
   "language": "python",
   "name": "python3"
  },
  "language_info": {
   "codemirror_mode": {
    "name": "ipython",
    "version": 3
   },
   "file_extension": ".py",
   "mimetype": "text/x-python",
   "name": "python",
   "nbconvert_exporter": "python",
   "pygments_lexer": "ipython3",
   "version": "3.12.6"
  }
 },
 "nbformat": 4,
 "nbformat_minor": 2
}
