{
 "cells": [
  {
   "cell_type": "code",
   "execution_count": 1,
   "metadata": {},
   "outputs": [
    {
     "name": "stdout",
     "output_type": "stream",
     "text": [
      "###-###\n"
     ]
    }
   ],
   "source": [
    "symbol = '#'\n",
    "connect = '-'\n",
    "print(f'{symbol}{symbol}{symbol}{connect}{symbol}{symbol}{symbol}')"
   ]
  },
  {
   "cell_type": "code",
   "execution_count": null,
   "metadata": {},
   "outputs": [],
   "source": [
    "#define a fuction with parameter\n",
    "def hello(name):\n",
    "    print(f'Hello, {name}')\n",
    "\n",
    "hello('ningger')\n",
    "hello('niga')\n",
    "name = 'chingchong'\n",
    "hello('name')"
   ]
  },
  {
   "cell_type": "code",
   "execution_count": 2,
   "metadata": {},
   "outputs": [
    {
     "ename": "NameError",
     "evalue": "name 'draw_pattern' is not defined",
     "output_type": "error",
     "traceback": [
      "\u001b[1;31m---------------------------------------------------------------------------\u001b[0m",
      "\u001b[1;31mNameError\u001b[0m                                 Traceback (most recent call last)",
      "Cell \u001b[1;32mIn[2], line 2\u001b[0m\n\u001b[0;32m      1\u001b[0m \u001b[38;5;66;03m#call draw_pattern funtion, pass in the arguments to the function\u001b[39;00m\n\u001b[1;32m----> 2\u001b[0m \u001b[43mdraw_pattern\u001b[49m(\u001b[38;5;124m'\u001b[39m\u001b[38;5;124m$\u001b[39m\u001b[38;5;124m'\u001b[39m,\u001b[38;5;124m'\u001b[39m\u001b[38;5;124m+\u001b[39m\u001b[38;5;124m'\u001b[39m,\u001b[38;5;241m3\u001b[39m,\u001b[38;5;241m2\u001b[39m)\n",
      "\u001b[1;31mNameError\u001b[0m: name 'draw_pattern' is not defined"
     ]
    }
   ],
   "source": [
    "#call draw_pattern funtion, pass in the arguments to the function\n",
    "draw_pattern('$','+',3,2)"
   ]
  },
  {
   "cell_type": "code",
   "execution_count": 3,
   "metadata": {},
   "outputs": [],
   "source": [
    "#a function to calculate the area of a circle\n",
    "def circle_area(radius):\n",
    "    area = 3.14159 * radius ** 2\n",
    "    print(f'area of circle with radius {radius} is {area:.2f}')\n",
    "    circle_area(3) #call function, passing literal value as argument\n",
    "    radius = 5\n",
    "    circle_area(radius) #call function, passing variable as argument"
   ]
  },
  {
   "cell_type": "code",
   "execution_count": 6,
   "metadata": {},
   "outputs": [],
   "source": [
    "#ex1 write a function to calculate the area of a rectangle\n",
    "def rectangle_area(width, height):\n",
    "     area = width * height\n",
    "     print(f'area of ractangle: {width} x {height} is {area}')\n",
    "\n"
   ]
  },
  {
   "cell_type": "code",
   "execution_count": null,
   "metadata": {},
   "outputs": [],
   "source": [
    "#function with reaturn value \n",
    "#def function_name(parameters):\n",
    "#      code block\n",
    "#     return value\n",
    "#  return: keyboard to return a value from a function to outside\n",
    "\n",
    "#when calling this function, we need to store the return value into a variable\n",
    "#val = function_name(paremeters)"
   ]
  },
  {
   "cell_type": "code",
   "execution_count": 7,
   "metadata": {},
   "outputs": [
    {
     "name": "stdout",
     "output_type": "stream",
     "text": [
      "area of circle with radius 3 is 28.27\n"
     ]
    }
   ],
   "source": [
    "def circle_area(radius):\n",
    "    area = 3.14159 * radius ** 2\n",
    "    return area\n",
    "area = circle_area(3)\n",
    "print(f'area of circle with radius 3 is {area:.2f}')"
   ]
  },
  {
   "cell_type": "code",
   "execution_count": 14,
   "metadata": {},
   "outputs": [
    {
     "name": "stdout",
     "output_type": "stream",
     "text": [
      "7 *1=7\n",
      "7 *2=14\n",
      "7 *3=21\n",
      "7 *4=28\n",
      "7 *5=35\n",
      "7 *6=42\n",
      "7 *7=49\n",
      "7 *8=56\n",
      "7 *9=63\n",
      "7 *10=70\n"
     ]
    }
   ],
   "source": [
    "#ex3 write a function to print multiplication table of a number n\n",
    "def multiplication(a):\n",
    "    for i in range(1,11):\n",
    "        print(f'{a} *{i}={a*i}')\n",
    "\n",
    "multiplication(7)"
   ]
  },
  {
   "cell_type": "code",
   "execution_count": null,
   "metadata": {},
   "outputs": [],
   "source": [
    "#re-write following code using function\n",
    "#decide how many parameters are needed\n",
    "n = 5\n",
    "m = 3\n",
    "for i in range(m):\n",
    "    for j in range(n):\n",
    "        print('*', end='')\n",
    "    print()"
   ]
  },
  {
   "cell_type": "code",
   "execution_count": 20,
   "metadata": {},
   "outputs": [
    {
     "name": "stdout",
     "output_type": "stream",
     "text": [
      "*\n",
      "**\n",
      "***\n",
      "****\n"
     ]
    }
   ],
   "source": [
    "def draw_triangle(rows):\n",
    "    for j in range(1, rows-1):\n",
    "       \n",
    "        print('*' * j)\n",
    "draw_triangle(6)\n"
   ]
  },
  {
   "cell_type": "code",
   "execution_count": null,
   "metadata": {},
   "outputs": [],
   "source": [
    "#ex function to determine rank of student based on average of 3 grades: english, math and science. rank is determined as follows:\n",
    "# average >= 80: distinction\n",
    "# average >= 60: merit\n",
    "# average >= 40: pass\n",
    "# average >= 20: fail\n",
    "# ask user to input 3 grades, calculate average and determine rank then ask the user if they want to coninue or not \n",
    "def student_rank():\n",
    "    while True:\n",
    "        \n",
    "        try:\n",
    "            english = float(input(\"Enter English grade: \"))\n",
    "            math = float(input(\"Enter Math grade: \"))\n",
    "            science = float(input(\"Enter Science grade: \"))\n",
    "        except ValueError:\n",
    "            print(\"Please enter valid numeric grades.\")\n",
    "            continue\n",
    "\n",
    "        \n",
    "        average = (english + math + science) / 3\n",
    "\n",
    "        \n",
    "        if average >= 80:\n",
    "            rank = \"Distinction\"\n",
    "        elif average >= 60:\n",
    "            rank = \"Merit\"\n",
    "        elif average >= 40:\n",
    "            rank = \"Pass\"\n",
    "        elif average >= 20:\n",
    "            rank = \"Fail\"\n",
    "        else:\n",
    "            rank = \"Poor Performance\"\n",
    "\n",
    "        \n",
    "        print(f\"Average Grade: {average:.2f}\")\n",
    "        print(f\"Rank: {rank}\")\n",
    "\n",
    "        \n",
    "        continue_choice = input(\"Do you want to continue? (yes/no): \").strip().lower()\n",
    "        if continue_choice != \"yes\":\n",
    "            print(\"Exiting the program.\")\n",
    "            break\n",
    "\n",
    "\n",
    "student_rank()\n"
   ]
  },
  {
   "cell_type": "code",
   "execution_count": null,
   "metadata": {},
   "outputs": [],
   "source": [
    "#scope of variable in function\n",
    "a=5\n",
    "b=10\n",
    "def my_function(b):\n",
    "    a=20\n",
    "    b=b*2\n",
    "    print(f'a={a}, b ={b}')\n",
    "my_function(3)\n",
    "print(f'a={a}, b={b}')\n"
   ]
  },
  {
   "cell_type": "code",
   "execution_count": null,
   "metadata": {},
   "outputs": [],
   "source": [
    "def celsius_to_fahrenheit(celsius):\n",
    "    return (celsius * 9/5) + 32\n",
    "\n",
    "def temperature_converter():\n",
    "    while True:\n",
    "        try:\n",
    "            celsius = float(input(\"Enter temperature in Celsius: \"))\n",
    "            fahrenheit = celsius_to_fahrenheit(celsius)\n",
    "            print(f\"{celsius}°C is {fahrenheit}°F\")\n",
    "        except ValueError:\n",
    "            print(\"Please enter a valid number.\")\n",
    "            continue\n",
    "        \n",
    "        again = input(\"Do you want to convert another temperature? (yes/no): \").lower()\n",
    "        if again != 'yes':\n",
    "            print(\"Goodbye!\")\n",
    "            break\n",
    "\n",
    "\n",
    "temperature_converter()\n"
   ]
  },
  {
   "cell_type": "code",
   "execution_count": 22,
   "metadata": {},
   "outputs": [
    {
     "name": "stdout",
     "output_type": "stream",
     "text": [
      "\n",
      "--- Round 1 ---\n",
      "Computer chose: rock\n",
      "User wins this round!\n",
      "Score - You: 1, Computer: 0\n",
      "\n",
      "--- Round 2 ---\n",
      "Computer chose: rock\n",
      "User wins this round!\n",
      "Score - You: 2, Computer: 0\n",
      "\n",
      "--- Round 3 ---\n",
      "Computer chose: rock\n",
      "User wins this round!\n",
      "Score - You: 3, Computer: 0\n",
      "\n",
      "Congratulations! You win the game!\n",
      "Thanks for playing! Goodbye!\n"
     ]
    }
   ],
   "source": [
    "import random\n",
    "\n",
    "def get_computer_choice():\n",
    "    return random.choice([\"rock\", \"paper\", \"scissors\"])\n",
    "\n",
    "def determine_winner(user_choice, computer_choice):\n",
    "    if user_choice == computer_choice:\n",
    "        return \"tie\"\n",
    "    elif (user_choice == \"rock\" and computer_choice == \"scissors\") or \\\n",
    "         (user_choice == \"scissors\" and computer_choice == \"paper\") or \\\n",
    "         (user_choice == \"paper\" and computer_choice == \"rock\"):\n",
    "        return \"user\"\n",
    "    else:\n",
    "        return \"computer\"\n",
    "\n",
    "def play_round():\n",
    "    user_choice = input(\"Choose rock, paper, or scissors: \").lower()\n",
    "    while user_choice not in [\"rock\", \"paper\", \"scissors\"]:\n",
    "        user_choice = input(\"Invalid choice. Please choose 'rock', 'paper', or 'scissors': \").lower()\n",
    "\n",
    "    computer_choice = get_computer_choice()\n",
    "    print(f\"Computer chose: {computer_choice}\")\n",
    "    \n",
    "    winner = determine_winner(user_choice, computer_choice)\n",
    "    print(f\"{'It\\'s a tie!' if winner == 'tie' else f'{winner.capitalize()} wins this round!'}\")\n",
    "    \n",
    "    return winner\n",
    "\n",
    "def play_game():\n",
    "    scores = {\"user\": 0, \"computer\": 0}\n",
    "    round_number = 1\n",
    "    \n",
    "    while round_number <= 5 and max(scores.values()) < 3:\n",
    "        print(f\"\\n--- Round {round_number} ---\")\n",
    "        result = play_round()\n",
    "        \n",
    "        if result != \"tie\":\n",
    "            scores[result] += 1\n",
    "        print(f\"Score - You: {scores['user']}, Computer: {scores['computer']}\")\n",
    "        round_number += 1\n",
    "    \n",
    "    print(\"\\n\" + (\"Congratulations! You win the game!\" if scores[\"user\"] == 3 else \n",
    "                  \"Sorry, the computer wins the game.\" if scores[\"computer\"] == 3 else \n",
    "                  \"No one reached 3 wins. It's a draw!\"))\n",
    "\n",
    "def main():\n",
    "    while True:\n",
    "        play_game()\n",
    "        if input(\"Do you want to play again? (yes/no): \").lower() != \"yes\":\n",
    "            print(\"Thanks for playing! Goodbye!\")\n",
    "            break\n",
    "\n",
    "\n",
    "main()\n"
   ]
  }
 ],
 "metadata": {
  "kernelspec": {
   "display_name": "Python 3",
   "language": "python",
   "name": "python3"
  },
  "language_info": {
   "codemirror_mode": {
    "name": "ipython",
    "version": 3
   },
   "file_extension": ".py",
   "mimetype": "text/x-python",
   "name": "python",
   "nbconvert_exporter": "python",
   "pygments_lexer": "ipython3",
   "version": "3.12.6"
  }
 },
 "nbformat": 4,
 "nbformat_minor": 2
}
