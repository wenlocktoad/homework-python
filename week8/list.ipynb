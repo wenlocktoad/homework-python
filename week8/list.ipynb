{
 "cells": [
  {
   "cell_type": "code",
   "execution_count": null,
   "metadata": {},
   "outputs": [],
   "source": [
    "#list methods : append, insert, remove, pop, clear, index, count sort reverse copy\n",
    "#append: add an item to the end of the list\n",
    "a= [1,2,3]\n",
    "a.append(4)\n",
    "print(a)\n"
   ]
  },
  {
   "cell_type": "code",
   "execution_count": null,
   "metadata": {},
   "outputs": [],
   "source": [
    "#insert: insert an item at a given position\n",
    "a.insert(2,100) #insert 100 at index 2\n",
    "print(a)"
   ]
  },
  {
   "cell_type": "code",
   "execution_count": null,
   "metadata": {},
   "outputs": [],
   "source": [
    "#remove: remove the first item of a given value\n",
    "a=[1,2,3,4,3,5]\n",
    "a.remove(3) #remove the first 3\n",
    "print(a)\n"
   ]
  },
  {
   "cell_type": "code",
   "execution_count": null,
   "metadata": {},
   "outputs": [],
   "source": [
    "#pop: remove the item at a given position and return it\n",
    "a=[1,2,3,4,5]\n",
    "c=a.pop(2)# remove the item at index2\n",
    "print(a)\n",
    "print(c)\n",
    "\n",
    "C=a.pop() #remove last item\n",
    "print(a)\n",
    "print(c)"
   ]
  },
  {
   "cell_type": "code",
   "execution_count": null,
   "metadata": {},
   "outputs": [],
   "source": [
    "#index: return the index of the first item of a given value\n",
    "names = ['alice','bob','charlie','bob','david']\n",
    "pos = names.index('bob')#return the index of the first 'bob' which is 1\n",
    "print(pos)\n",
    "pos=names.index('john') #valueerror: john is not in the list\n"
   ]
  },
  {
   "cell_type": "code",
   "execution_count": null,
   "metadata": {},
   "outputs": [],
   "source": [
    "#count: return the number of times a value appears in the list\n",
    "print(names)\n",
    "c = names.count('bob')\n",
    "print(c)\n",
    "c = names.count('john')\n",
    "print(c)\n",
    "c = names.count('alice')\n",
    "print(c)"
   ]
  },
  {
   "cell_type": "code",
   "execution_count": null,
   "metadata": {},
   "outputs": [],
   "source": [
    "#sort items directly in the list\n",
    "import random as bs\n",
    "a= bs.sample(range(1,100),10)\n",
    "print(a)\n",
    "b=sorted(a)\n",
    "print(b) # is a new sorted list\n",
    "print(a) # is not changed\n",
    "\n",
    "a.sort() #sort a directly\n",
    "print(a)"
   ]
  },
  {
   "cell_type": "code",
   "execution_count": null,
   "metadata": {},
   "outputs": [],
   "source": [
    "#reverse the list\n",
    "a = bs.samble(range(1,100), 10)\n",
    "print(a)\n",
    "a.reverse()\n",
    "print(a)"
   ]
  },
  {
   "cell_type": "code",
   "execution_count": null,
   "metadata": {},
   "outputs": [],
   "source": [
    "#slicing mmake a sub list in the list\n",
    "#basic syntax a[start;stop] getting items from starrt to stop -1\n",
    "a= bs.sample(range(1,100), 10)"
   ]
  },
  {
   "cell_type": "code",
   "execution_count": null,
   "metadata": {},
   "outputs": [],
   "source": [
    "print(a)\n",
    "b=a[0:3]"
   ]
  },
  {
   "cell_type": "code",
   "execution_count": null,
   "metadata": {},
   "outputs": [],
   "source": [
    "#when start is 0, it can be omitted\n",
    "b=a[:3]\n",
    "print(b)\n",
    "#when stop is the length of he list, it can be omitted\n",
    "b=a[5:]\n",
    "print(b)\n",
    "#another way to copy a list\n",
    "b=a[:]\n",
    "print(b)"
   ]
  },
  {
   "cell_type": "code",
   "execution_count": null,
   "metadata": {},
   "outputs": [],
   "source": [
    "# negatie index: -1 is last item, -2 is 2nd last item \n",
    "#reverse list using slicing and negative index\n",
    "#full syntax: a[start:stop:step]: get items from start to stop - 1 with step\n",
    "print(a)\n",
    "b=a[3:8:2] # get items from index 3 to 7 with step 2\n",
    "print(b)\n",
    "b=a[9:3:-2]\n",
    "print(b)\n",
    "print(a[::2])#get items at even index\n",
    "print(a[1::2])#get items at odd index "
   ]
  },
  {
   "cell_type": "code",
   "execution_count": null,
   "metadata": {},
   "outputs": [
    {
     "name": "stdout",
     "output_type": "stream",
     "text": [
      "product with the highest price: pen: $2.5\n"
     ]
    }
   ],
   "source": [
    "list_products=['pencil','pen','notebook','eraser','sharpener','ruler']\n",
    "list_price=[0.5, 1.0, 2.5, 0.3, 0.7, 1.2]\n",
    "list_quantities=[100, 75, 25, 120, 10, 60]\n",
    "#which product has the highest price?\n",
    "max_price =list_price[0]\n",
    "i_max=0\n",
    "for i in range(1, len(list_price)):\n",
    "    if list_price[i]>max_price:\n",
    "        max_price= list_price[i]\n",
    "        i_max=i\n",
    "print(f'product with the highest price: {list_products[i_max]}: ${max_price}')\n"
   ]
  },
  {
   "cell_type": "code",
   "execution_count": 5,
   "metadata": {},
   "outputs": [
    {
     "name": "stdout",
     "output_type": "stream",
     "text": [
      "product with the lowest quantities: 10: $10\n"
     ]
    }
   ],
   "source": [
    "#which product has minimum quantity\n",
    "min_quantities =list_quantities[0]\n",
    "i_min=0\n",
    "for i in range(1, len(list_quantities)):\n",
    "    if list_quantities[i]<min_quantities:\n",
    "        min_quantities= list_quantities[i]\n",
    "        i_min=i\n",
    "print(f'product with the lowest quantities: {list_quantities[i_min]}: ${min_quantities}')\n"
   ]
  },
  {
   "cell_type": "code",
   "execution_count": null,
   "metadata": {},
   "outputs": [],
   "source": [
    "#enter a product name, print its price and quantity if found\n",
    "name=input(\"enter product name\")\n",
    "found = False\n",
    "for i in range(len(list_products)):\n",
    "    if list_products[i]==name:\n",
    "        print(f'price: ${list_price[i]}, quantity:{list_quantities[i]}')\n",
    "        found=True\n",
    "        break\n",
    "if not found:\n",
    "    print(f'product {name} not found')"
   ]
  },
  {
   "cell_type": "code",
   "execution_count": 2,
   "metadata": {},
   "outputs": [
    {
     "name": "stdout",
     "output_type": "stream",
     "text": [
      "list of products to achive goal:\n",
      "total products to achive goal: 0\n"
     ]
    }
   ],
   "source": [
    "#entera goal for revenue, print the products that need to be sold to reach the goal\n",
    "#count how many products need to be sold\n",
    "list_products=['pencil','pen','notebook','eraser','sharpener','ruler']\n",
    "list_price=[0.5, 1.0, 2.5, 0.3, 0.7, 1.2]\n",
    "list_quantities=[100, 75, 25, 120, 10, 60]\n",
    "revenue_goal = float(input('enter a goal for revenue: '))\n",
    "count=0\n",
    "print('list of products to achive goal:')\n",
    "for i in range(len(list_price)):\n",
    "    revenue = list_price[i] * list_quantities[i]\n",
    "    if revenue >= revenue_goal:\n",
    "        count +=1 \n",
    "        print(f'product {list_products[i]}: ${revenue}')\n",
    "print(f'total products to achive goal: {count}')"
   ]
  }
 ],
 "metadata": {
  "kernelspec": {
   "display_name": "Python 3",
   "language": "python",
   "name": "python3"
  },
  "language_info": {
   "codemirror_mode": {
    "name": "ipython",
    "version": 3
   },
   "file_extension": ".py",
   "mimetype": "text/x-python",
   "name": "python",
   "nbconvert_exporter": "python",
   "pygments_lexer": "ipython3",
   "version": "3.12.6"
  }
 },
 "nbformat": 4,
 "nbformat_minor": 2
}
