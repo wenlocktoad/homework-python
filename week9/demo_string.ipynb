{
 "cells": [
  {
   "cell_type": "code",
   "execution_count": 2,
   "metadata": {},
   "outputs": [
    {
     "name": "stdout",
     "output_type": "stream",
     "text": [
      "a = |       123|, b = |    123.46|\n",
      "a = |1.230000e+02|, b = |  1.23e+02|\n"
     ]
    }
   ],
   "source": [
    "#format numbers\n",
    "#%d for interger\n",
    "#%f for float\n",
    "#%e for scientific notaion\n",
    "a=123\n",
    "b=123.456\n",
    "print(f'a = |{a:10d}|, b = |{b:10.2f}|')\n",
    "print(f'a = |{a:10e}|, b = |{b:10.2e}|')"
   ]
  },
  {
   "cell_type": "code",
   "execution_count": 3,
   "metadata": {},
   "outputs": [
    {
     "name": "stdout",
     "output_type": "stream",
     "text": [
      "s = |gregr               |\n"
     ]
    }
   ],
   "source": [
    "# format sting: %s\n",
    "s= 'gregr'\n",
    "print(f's = |{s:20s}|')# string is aligned to the left "
   ]
  },
  {
   "cell_type": "code",
   "execution_count": 4,
   "metadata": {},
   "outputs": [
    {
     "name": "stdout",
     "output_type": "stream",
     "text": [
      "|gregr               |\n",
      "|               gregr|\n",
      "|       gregr        |\n"
     ]
    }
   ],
   "source": [
    "# align output manually\n",
    "print(f'|{s:<20s}|')#left\n",
    "print(f'|{s:>20s}|')#right\n",
    "print(f'|{s:^20s}|')# center"
   ]
  },
  {
   "cell_type": "code",
   "execution_count": null,
   "metadata": {},
   "outputs": [],
   "source": [
    "list_products=['pencil','pen','notebook','eraser','sharpener','ruler']\n",
    "list_price=[0.5, 1.0, 2.5, 0.3, 0.7, 1.2]\n",
    "list_quantities=[100, 75, 25, 120, 10, 60]\n",
    "#print the header\n",
    "print('+-------+-------+-------+-------+')\n",
    "print(f'|{\"no\":^5s}|{\"product\":^10s}|{\"price\":^5s}|{\"quantity\":^10s}|')\n",
    "print('+-------+-------+-------+-------+')\n",
    "\n",
    "for i in range(1, len(list_products) + 1):\n",
    "    print(f'|{i:^5d}|{list_products[i-1]:^10s}|{list_price[i-1]:^10.2f}|{list_quantities[i-1]:^10d}|')\n",
    "    print('+-------------------------------------+')\n"
   ]
  },
  {
   "cell_type": "code",
   "execution_count": null,
   "metadata": {},
   "outputs": [
    {
     "name": "stdout",
     "output_type": "stream",
     "text": [
      "|  hello   world|\n",
      "|helloworld|\n"
     ]
    }
   ],
   "source": [
    "#remove white spaces: strip, lstrip, rstrip\n",
    "#remove spaces in the middle\n",
    "#split a string into a list of substrings\n",
    "\n",
    "s='  hello   world'\n",
    "print(f'|{s}|')\n",
    "s= ''.join(s.split())\n",
    "print(f'|{s}|')"
   ]
  },
  {
   "cell_type": "code",
   "execution_count": 2,
   "metadata": {},
   "outputs": [
    {
     "name": "stdout",
     "output_type": "stream",
     "text": [
      "domain name: google\n",
      "domain type: com\n"
     ]
    }
   ],
   "source": [
    "url = 'http://www.google.com'\n",
    "#get domain name\n",
    "print(f'domain name: {url.split('.')[-2]}')\n",
    "#get domain type\n",
    "print(f'domain type: {url.split('.')[2]}')"
   ]
  },
  {
   "cell_type": "code",
   "execution_count": 3,
   "metadata": {},
   "outputs": [
    {
     "name": "stdout",
     "output_type": "stream",
     "text": [
      "don't **** with me. u nigga\n"
     ]
    }
   ],
   "source": [
    "#replace a substring with another substring\n",
    "s='don\\'t fuck with me. u nigga'\n",
    "s= s.replace('fuck','****')\n",
    "print(s)"
   ]
  },
  {
   "cell_type": "code",
   "execution_count": null,
   "metadata": {},
   "outputs": [],
   "source": [
    "#string classification:\n",
    "#isalpha: check if string contains only alpha characters\n",
    "#isnumeric: check if string contains only numeric numbers\n",
    "#isalnum: check if string contains only alpha and numeric \n",
    "s='Hello nigga'\n",
    "print(s.isalpha())\n",
    "print(s.isnumeric())\n",
    "print(s.isalnum())\n",
    "print('-----')\n",
    "s='12345678'\n",
    "print(s.isalpha())\n",
    "print(s.isnumeric())\n",
    "print(s.isalnum())\n",
    "print('-----')\n",
    "s='abc123'\n",
    "print(s.isalpha())\n",
    "print(s.isnumeric())\n",
    "print(s.isalnum())\n",
    "print('-----')"
   ]
  },
  {
   "cell_type": "code",
   "execution_count": null,
   "metadata": {},
   "outputs": [],
   "source": [
    "#string search methods : finds, startwith, endwith, count\n",
    "s=' hello nigga world'\n",
    "print(s.find('nigga'))#return the first position where the subtring found\n"
   ]
  }
 ],
 "metadata": {
  "kernelspec": {
   "display_name": "Python 3",
   "language": "python",
   "name": "python3"
  },
  "language_info": {
   "codemirror_mode": {
    "name": "ipython",
    "version": 3
   },
   "file_extension": ".py",
   "mimetype": "text/x-python",
   "name": "python",
   "nbconvert_exporter": "python",
   "pygments_lexer": "ipython3",
   "version": "3.12.6"
  }
 },
 "nbformat": 4,
 "nbformat_minor": 2
}
