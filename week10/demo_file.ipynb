{
 "cells": [
  {
   "cell_type": "code",
   "execution_count": null,
   "metadata": {},
   "outputs": [],
   "source": [
    "#open file to read \n",
    "#"
   ]
  },
  {
   "cell_type": "code",
   "execution_count": null,
   "metadata": {},
   "outputs": [],
   "source": [
    "#read content line by line \n",
    "f = open('hello.txt', 'r')\n",
    "for line in f:\n",
    "    print(line.strip())\n",
    "f.close()"
   ]
  },
  {
   "cell_type": "code",
   "execution_count": 1,
   "metadata": {},
   "outputs": [
    {
     "name": "stdout",
     "output_type": "stream",
     "text": [
      "Agencies with authority:\n",
      "The Triboro Bridge and Tunnel Authority\n",
      "The Metropolitan Transit Authority\n",
      "The Port Authority of New York and New Jersey\n"
     ]
    }
   ],
   "source": [
    "f = open('agencies.txt', 'r')\n",
    "agencies = f.readlines()\n",
    "\n",
    "print('Agencies with authority:')\n",
    "for agency in agencies:\n",
    "    if 'Authority' in agency:\n",
    "        print(agency.strip())\n",
    "\n",
    "f.close()"
   ]
  },
  {
   "cell_type": "code",
   "execution_count": 12,
   "metadata": {},
   "outputs": [
    {
     "name": "stdout",
     "output_type": "stream",
     "text": [
      " agencies wtih and:\n",
      "The Triboro Bridge and Tunnel Authority\n",
      "Housing and Urban Development\n",
      "The Port Authority of New York and New Jersey\n",
      "number of complex agencies: 3\n"
     ]
    }
   ],
   "source": [
    "f = open ('agencies.txt','r')\n",
    "agencies = f.readlines()\n",
    "count = 0\n",
    "print(' agencies wtih and:')\n",
    "for agency in agencies:\n",
    "    if ' and ' in agency:\n",
    "        print(agency.strip())\n",
    "        count += 1\n",
    "print(f'number of complex agencies: {count}')\n",
    "f.close()        "
   ]
  },
  {
   "cell_type": "code",
   "execution_count": null,
   "metadata": {},
   "outputs": [],
   "source": [
    "f = open ('authors.txt','r')\n",
    "authors = f.readlines()\n",
    "count = 0\n",
    "print('Authors that dont use gmail:')\n",
    "for author in authors:\n",
    "    if '@' in author and '@gmail' not in author:\n",
    "        print(author.strip())\n",
    "        count +=1\n",
    "print(f'number of authors that dont use gmail: {count}')\n",
    "f.close()"
   ]
  },
  {
   "cell_type": "code",
   "execution_count": null,
   "metadata": {},
   "outputs": [],
   "source": [
    "#print all authors that use gmail\n",
    "f = open ('authors.txt','r')\n",
    "authors = f.readlines()\n",
    "\n",
    "print(f'{\"author\":20}{\"email\":20}')\n",
    "for author in authors:\n",
    "    if  '@gmail'  in author:\n",
    "       name = author.split('<')[0]\n",
    "       email = author.split('<')[1].split('>')[0]\n",
    "       print(f'{name:20}{email:20}')\n",
    "\n",
    "f.close()"
   ]
  },
  {
   "cell_type": "code",
   "execution_count": null,
   "metadata": {},
   "outputs": [],
   "source": [
    "#read csv file manually\n",
    "f = open('books.csv', 'r')\n",
    "header = f.readline().strip().split(',') #read the header and split by comma\n",
    "print(f'{header[0]:30}{header[1]:25}{header[2]:20}')\n",
    "\n",
    "for row in f:\n",
    "    name = row.strip().split(',')[0]\n",
    "    author = row.strip().split(',')[1]\n",
    "    price = row.strip().split(',')[2]\n",
    "    print(f'{names:30}{author:25}{price:20}')\n",
    "f.close()"
   ]
  },
  {
   "cell_type": "code",
   "execution_count": null,
   "metadata": {},
   "outputs": [],
   "source": [
    "import csv\n",
    "f = open ('book.csv','r')\n",
    "csv_reader = csv.reader(f) #create a csv reader object\n",
    "header = next(csv_reader) #read the header\n",
    "print(f'{header[0]:30}')"
   ]
  }
 ],
 "metadata": {
  "kernelspec": {
   "display_name": "Python 3",
   "language": "python",
   "name": "python3"
  },
  "language_info": {
   "codemirror_mode": {
    "name": "ipython",
    "version": 3
   },
   "file_extension": ".py",
   "mimetype": "text/x-python",
   "name": "python",
   "nbconvert_exporter": "python",
   "pygments_lexer": "ipython3",
   "version": "3.12.6"
  }
 },
 "nbformat": 4,
 "nbformat_minor": 2
}
