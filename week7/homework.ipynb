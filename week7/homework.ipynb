{
 "cells": [
  {
   "cell_type": "code",
   "execution_count": 1,
   "metadata": {},
   "outputs": [
    {
     "name": "stdout",
     "output_type": "stream",
     "text": [
      "Welcome to the Restaurant Tip Calculator!\n",
      "Tip: $30.00, Total: $230.00\n",
      "The restaurant is now closed. Have a great day!\n"
     ]
    }
   ],
   "source": [
    "def main():\n",
    "    print(\"Welcome to the Restaurant Tip Calculator!\")\n",
    "\n",
    "    while True:\n",
    "        try:\n",
    "            bill_amount = float(input(\"Enter the customer's bill amount: \"))\n",
    "            tip_percentage = float(input(\"Enter the tip percentage (default 15%): \") or 15)\n",
    "            if bill_amount < 0 or tip_percentage < 0:\n",
    "                print(\"Amounts cannot be negative. Please try again.\")\n",
    "                continue\n",
    "        except ValueError:\n",
    "            print(\"Invalid input. Please enter numbers only.\")\n",
    "            continue\n",
    "\n",
    "        tip = bill_amount * (tip_percentage / 100)\n",
    "        total_amount = bill_amount + tip\n",
    "        print(f\"Tip: ${tip:.2f}, Total: ${total_amount:.2f}\")\n",
    "\n",
    "        if input(\"More customers? (yes/no): \").strip().lower() != \"yes\":\n",
    "            print(\"The restaurant is now closed. Have a great day!\")\n",
    "            break\n",
    "\n",
    "if __name__ == \"__main__\":\n",
    "    main()\n"
   ]
  },
  {
   "cell_type": "code",
   "execution_count": null,
   "metadata": {},
   "outputs": [],
   "source": [
    "def main():\n",
    "    print(\"Welcome to the Parking Fee Calculator!\")\n",
    "\n",
    "    while True:\n",
    "        try:\n",
    "            hours = float(input(\"Enter the total hours parked: \"))\n",
    "            if hours <= 0:\n",
    "                print(\"Please enter a positive number.\")\n",
    "                continue\n",
    "        except ValueError:\n",
    "            print(\"Invalid input. Please enter a numeric value.\")\n",
    "            continue\n",
    "\n",
    "        fee = 5 + max(0, hours - 2) * 3  \n",
    "        fee = min(fee, 20)  \n",
    "\n",
    "        print(f\"Parking fee: ${fee:.2f}\")\n",
    "\n",
    "if __name__ == \"__main__\":\n",
    "    main()\n"
   ]
  },
  {
   "cell_type": "code",
   "execution_count": null,
   "metadata": {},
   "outputs": [
    {
     "name": "stdout",
     "output_type": "stream",
     "text": [
      "Welcome to the Fitness Tracker!\n",
      "Your weekly step goal is 10000 steps.\n",
      "\n",
      "Total steps: 95000\n",
      "Average daily steps: 13571.43\n",
      "Congratulations! You achieved your weekly goal!\n"
     ]
    }
   ],
   "source": [
    "def main():\n",
    "   \n",
    "    weekly_goal = 10000\n",
    "    steps_log = []\n",
    "\n",
    "    print(\"Welcome to the Fitness Tracker!\")\n",
    "    print(f\"Your weekly step goal is {weekly_goal} steps.\")\n",
    "\n",
    "\n",
    "    for day in range(1, 8):\n",
    "        while True:\n",
    "            try:\n",
    "                steps = int(input(f\"Enter steps for day {day}: \"))\n",
    "                if steps < 0:\n",
    "                    raise ValueError\n",
    "                steps_log.append(steps)\n",
    "                break  \n",
    "            except ValueError:\n",
    "                print(\"Please enter a positive number.\")\n",
    "\n",
    "\n",
    "    total_steps = sum(steps_log)\n",
    "    average_steps = total_steps / 7\n",
    "\n",
    "\n",
    "    print(f\"\\nTotal steps: {total_steps}\")\n",
    "    print(f\"Average daily steps: {average_steps:.2f}\")\n",
    "    \n",
    "   \n",
    "    if total_steps >= weekly_goal:\n",
    "        print(\"Congratulations! You achieved your weekly goal!\")\n",
    "    else:\n",
    "        print(\"Keep going! You didn't reach your weekly goal this time.\")\n",
    "\n",
    "if __name__ == \"__main__\":\n",
    "    main()\n"
   ]
  }
 ],
 "metadata": {
  "kernelspec": {
   "display_name": "Python 3",
   "language": "python",
   "name": "python3"
  },
  "language_info": {
   "codemirror_mode": {
    "name": "ipython",
    "version": 3
   },
   "file_extension": ".py",
   "mimetype": "text/x-python",
   "name": "python",
   "nbconvert_exporter": "python",
   "pygments_lexer": "ipython3",
   "version": "3.12.6"
  }
 },
 "nbformat": 4,
 "nbformat_minor": 2
}
