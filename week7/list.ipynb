{
 "cells": [
  {
   "cell_type": "code",
   "execution_count": 4,
   "metadata": {},
   "outputs": [
    {
     "name": "stdout",
     "output_type": "stream",
     "text": [
      "[2, 0, 4, 8, 19]\n",
      "['john', 'jonh', 'jhon', 'saune']\n",
      "[]\n"
     ]
    }
   ],
   "source": [
    "#declare a list using [] brackets\n",
    "numbers = [2,0,4,8,19]\n",
    "print(numbers)\n",
    "\n",
    "names =['john','jonh', 'jhon', 'saune']\n",
    "print(names)\n",
    "#empty list \n",
    "empty_list = []\n",
    "print(empty_list)"
   ]
  },
  {
   "cell_type": "code",
   "execution_count": null,
   "metadata": {},
   "outputs": [],
   "source": [
    "#access elementd in s list using index starting from 0\n",
    "print(names[2])\n",
    "print(numbers[3])\n"
   ]
  },
  {
   "cell_type": "code",
   "execution_count": null,
   "metadata": {},
   "outputs": [],
   "source": [
    "#chsnge element in a list using index\n",
    "#list of difference data types\n",
    "numbers[1]= 10\n",
    "print(numbers)\n",
    "my_list = [ 1,'lol',3.24, True ]\n",
    "print(my_list)"
   ]
  },
  {
   "cell_type": "code",
   "execution_count": null,
   "metadata": {},
   "outputs": [],
   "source": [
    "#list operators:\n",
    "#=,*,in,not in, ==,!=\n",
    "a=[1,2,3]\n",
    "b=['hello','bitch']\n",
    "c= a+b\n",
    "print(c)\n",
    "a=a*3\n",
    "print(a)\n",
    "b= 4*b\n",
    "print(b)"
   ]
  },
  {
   "cell_type": "code",
   "execution_count": null,
   "metadata": {},
   "outputs": [],
   "source": [
    "a=[1,2,3]\n",
    "b=[3,4,5]\n",
    "c= a*b #cant multiply two lists\n",
    "print(c)"
   ]
  },
  {
   "cell_type": "code",
   "execution_count": 9,
   "metadata": {},
   "outputs": [
    {
     "name": "stdout",
     "output_type": "stream",
     "text": [
      "[2, 10, 4, 8, 19]\n",
      "True\n"
     ]
    }
   ],
   "source": [
    "#check if an item is in the list or not \n",
    "print(numbers)\n",
    "x = 4\n",
    "print(x in numbers)\n",
    "x = 20\n",
    "print(x in numbers)\n",
    "\n"
   ]
  },
  {
   "cell_type": "code",
   "execution_count": null,
   "metadata": {},
   "outputs": [],
   "source": [
    "#check if two list are equal(same element, order)\n",
    "a=4\n",
    "b=a\n",
    "print(a,b)\n",
    "a=100\n",
    "print(a,b)# a change to 100 but b is still 4\n",
    "\n",
    "a=[1,2,3]\n",
    "b=a\n",
    "print(a,b,sep='\\n')\n",
    "a[0] = 100\n",
    "print(a,b,sep='\\n')\n"
   ]
  },
  {
   "cell_type": "code",
   "execution_count": null,
   "metadata": {},
   "outputs": [],
   "source": [
    "a=[1,2,3]\n",
    "b=a\n",
    "print(a,b,sep='\\n')\n"
   ]
  },
  {
   "cell_type": "code",
   "execution_count": null,
   "metadata": {},
   "outputs": [],
   "source": [
    "#basic function to work with list: len, sum, max, min\n",
    "import random as rd\n",
    "numbers= rd.sample(range(1,100), 10)# generate a list of 10 random numbers from 1 to 100\n",
    "print(numbers)\n",
    "\n",
    "#get length of a list \n",
    "print(len(numbers))"
   ]
  },
  {
   "cell_type": "code",
   "execution_count": null,
   "metadata": {},
   "outputs": [],
   "source": [
    "#get sum of all elements in a list \n",
    "print(sum(numbers))\n",
    "#get max value in a list\n",
    "print(max(numbers))\n",
    "#get min value in a list\n",
    "print(min(numbers))\n"
   ]
  },
  {
   "cell_type": "code",
   "execution_count": null,
   "metadata": {},
   "outputs": [],
   "source": [
    "first_names = ['anna','adam','satan']\n",
    "print(len(first_names))\n",
    "print(max(first_names))# \n",
    "print(min(first_names))"
   ]
  },
  {
   "cell_type": "code",
   "execution_count": null,
   "metadata": {},
   "outputs": [],
   "source": [
    "#sort a list then return a sorted list \n",
    "sorted_numbers = sorted(numbers)\n",
    "print(sorted_numbers)\n",
    "print(numbers) # numbers is not changed\n",
    "sorted_numbers= sorted(numbers, reverse=True)\n",
    "print(sorted_numbers)\n"
   ]
  },
  {
   "cell_type": "code",
   "execution_count": null,
   "metadata": {},
   "outputs": [],
   "source": [
    "#loop through all items using for loop \n",
    "# without index\n",
    "import random as rd\n",
    "numbers = rd.sample(range(1,100), 10)\n",
    "for n in numbers:\n",
    "    print(n, end='')\n",
    "print()\n",
    "#with index\n",
    "for n in range(len(numbers)):\n",
    "    print(numbers[i], end='')\n",
    "    \n"
   ]
  },
  {
   "cell_type": "code",
   "execution_count": null,
   "metadata": {},
   "outputs": [],
   "source": [
    "#loop with conditions print all even numbers\n",
    "for n in numbers:\n",
    "    if n % 2 == 0:\n",
    "        print(n,end='')\n",
    "        "
   ]
  },
  {
   "cell_type": "code",
   "execution_count": null,
   "metadata": {},
   "outputs": [],
   "source": [
    "print(numbers)\n",
    "x= int(input('Enter a number'))\n",
    "found= False #set flag to false\n",
    "\n",
    "for n in numbers:\n",
    "    if n == x:\n",
    "        found = True #found x, turn flag to true\n",
    "        break #no need to countinue searching\n",
    "\n",
    "\n",
    "if found:\n",
    "    print(x, 'is in the list')\n",
    "else:\n",
    "    print(x,'is not in the list')\n",
    "\n",
    "\n"
   ]
  },
  {
   "cell_type": "code",
   "execution_count": null,
   "metadata": {},
   "outputs": [],
   "source": [
    "names=['bob','rob','sob','lob','cob']\n",
    "print(names)\n",
    "x = input('enter name:')\n",
    "found= False\n",
    "\n",
    "for n in names:\n",
    "    if n == x:\n",
    "        found= True\n",
    "        break\n",
    "if found:\n",
    "    print(x, ' is in the list')\n",
    "else:\n",
    "    print(x, 'is not in the list')"
   ]
  },
  {
   "cell_type": "code",
   "execution_count": null,
   "metadata": {},
   "outputs": [],
   "source": [
    "print(names)\n",
    "pos = -1\n",
    "for i in range(len(names),):\n",
    "    if names[i] == name:\n",
    "        pos = i # mark the position of name when found\n",
    "        break\n",
    "\n",
    "if pos == -1:\n",
    "    print(name, 'is not in the list')\n",
    "else:\n",
    "    print(name, 'is in the list', pos)"
   ]
  },
  {
   "cell_type": "code",
   "execution_count": 11,
   "metadata": {},
   "outputs": [
    {
     "name": "stdout",
     "output_type": "stream",
     "text": [
      "5  appears in the list 7 times\n"
     ]
    }
   ],
   "source": [
    "numbers=[3,4,2,6,5,5,5,5,5,5,5,9,7,1]\n",
    "x=5\n",
    "count = 0\n",
    "for n in numbers:\n",
    "    if n == x:\n",
    "        count +=1\n",
    "\n",
    "if count == 0:\n",
    "    print(x, ' is not in the list')\n",
    "else: \n",
    "    print(x, ' appears in the list', count, 'times')"
   ]
  },
  {
   "cell_type": "code",
   "execution_count": null,
   "metadata": {},
   "outputs": [],
   "source": [
    "numbers= rd.sample(range(1,100), 10)\n",
    "print(numbers)\n",
    "s=0\n",
    "for n in numbers:\n",
    "    s += n \n",
    "print('sum of all numbers:', s)"
   ]
  },
  {
   "cell_type": "code",
   "execution_count": 13,
   "metadata": {},
   "outputs": [
    {
     "ename": "NameError",
     "evalue": "name 'rd' is not defined",
     "output_type": "error",
     "traceback": [
      "\u001b[1;31m---------------------------------------------------------------------------\u001b[0m",
      "\u001b[1;31mNameError\u001b[0m                                 Traceback (most recent call last)",
      "Cell \u001b[1;32mIn[13], line 2\u001b[0m\n\u001b[0;32m      1\u001b[0m \u001b[38;5;66;03m#ex2: find the sum of odd numbers \u001b[39;00m\n\u001b[1;32m----> 2\u001b[0m numbers\u001b[38;5;241m=\u001b[39m \u001b[43mrd\u001b[49m\u001b[38;5;241m.\u001b[39msample(\u001b[38;5;28mrange\u001b[39m(\u001b[38;5;241m1\u001b[39m,\u001b[38;5;241m100\u001b[39m), \u001b[38;5;241m10\u001b[39m)\n\u001b[0;32m      3\u001b[0m \u001b[38;5;28mprint\u001b[39m(numbers)\n\u001b[0;32m      4\u001b[0m s\u001b[38;5;241m=\u001b[39m\u001b[38;5;241m0\u001b[39m\n",
      "\u001b[1;31mNameError\u001b[0m: name 'rd' is not defined"
     ]
    }
   ],
   "source": [
    "#ex2: find the sum of odd numbers \n",
    "import random as rd\n",
    "numbers= rd.sample(range(1,100), 10)\n",
    "print(numbers)\n",
    "s=0\n",
    "for n in numbers:\n",
    "    s += n % 3\n",
    "    \n",
    "print('sum of all odd numbers:', s)"
   ]
  }
 ],
 "metadata": {
  "kernelspec": {
   "display_name": "Python 3",
   "language": "python",
   "name": "python3"
  },
  "language_info": {
   "codemirror_mode": {
    "name": "ipython",
    "version": 3
   },
   "file_extension": ".py",
   "mimetype": "text/x-python",
   "name": "python",
   "nbconvert_exporter": "python",
   "pygments_lexer": "ipython3",
   "version": "3.12.6"
  }
 },
 "nbformat": 4,
 "nbformat_minor": 2
}
